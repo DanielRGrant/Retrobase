{
 "cells": [
  {
   "cell_type": "code",
   "execution_count": 2,
   "metadata": {},
   "outputs": [],
   "source": [
    "from Bio import AlignIO\n",
    "import os"
   ]
  },
  {
   "cell_type": "code",
   "execution_count": 16,
   "metadata": {},
   "outputs": [
    {
     "name": "stdout",
     "output_type": "stream",
     "text": [
      "CLUSTAL O(1.2.4) multiple sequence alignment\n",
      "\n",
      "\n",
      "\n",
      "\n",
      "\n",
      "Gag                ------------------------------------------------MGQTKSKIKSKY\t12\n",
      "\n",
      "                                                                               \n",
      "\n",
      "\n",
      "\n",
      "Gag                ASYLSFIKILLKRGGVKVSTKNLIKLFQIIEQFCPWFPEQGTLDLKDWKRIGKELKQAGR\t72\n",
      "\n",
      "                                                                               \n",
      "\n",
      "\n",
      "\n",
      "Gag                KGNIIPL--TVWNDWAIIKAALEPFQTEEDSVSVSDAPGSCIIDCNENTRKKSQKETEGL\t130\n",
      "\n",
      "                                                                               \n",
      "\n",
      "\n",
      "\n",
      "Gag                HCEYVAEPVMAQSTQNVDYNQLQEVIYPETLKLEGKGPELVGPSESKPRGTS-PLPAGQV\t189\n",
      "\n",
      "                                                                               \n",
      "\n",
      "\n",
      "\n",
      "Gag                PVTL-----------QPQ--------------------------------KQVKENKTQP\t206\n",
      "\n",
      "                                                                               \n",
      "\n",
      "\n",
      "\n",
      "Gag                PVAYQYWPPAELQYRPPPESQYGYPGMPPAPQGRAPYPQPPTRRLN---PTAPPSRQGSK\t263\n",
      "\n",
      "                                                                               \n",
      "\n",
      "\n",
      "\n",
      "Gag                --LHEIIDKSRKEGDTEAWQF---PVTLEPMPPGEGAQEGEPPTVEARYKSFSIKKLKDM\t318\n",
      "\n",
      "                                                                               \n",
      "\n",
      "\n",
      "\n",
      "Gag                KEGVKQYGPNSPYMRTLLDSIAHGHRLIPYDWEILAKSSLSPSQFLQFKTWWIDGVQEQV\t378\n",
      "\n",
      "                                                                               \n",
      "\n",
      "\n",
      "\n",
      "Gag                RRNRAANPPVNIDA-DQLLGIGQNWSTISQQALMQNEAIEQVRAICLRAWEKIQDPGSTC\t437\n",
      "\n",
      "                                                                               \n",
      "\n",
      "\n",
      "\n",
      "Gag                PSFNT---------------------------VRQGSKEPYPDFVARLQDVAQKSIADEK\t470\n",
      "\n",
      "                                                                               \n",
      "\n",
      "\n",
      "\n",
      "Gag                ARKVIVELMAYENANPECQSAIKPLKGKVPAGSDVISEYVKACDGIGGAMHKAMLMAQAI\t530\n",
      "\n",
      "                                                                               \n",
      "\n",
      "\n",
      "\n",
      "Gag                TGVVLGGQVRTFGRKCYNCGQIGHLKKNCPVLNKQNITIQAT-TTGREPPDLCPRCKKGK\t589\n",
      "\n",
      "                                                                               \n",
      "\n",
      "\n",
      "\n",
      "Gag                HWASQCRSKFDKNGQPLSGNEQRGQPQAPQQTGAFPIQPFVPQGFQGQQPPLS-QVFQGI\t648\n",
      "\n",
      "                                                                               \n",
      "\n",
      "\n",
      "\n",
      "Gag                SQLPQYNNCPPPQAAVQQ\t666\n",
      "\n",
      "                                     \n",
      "\n"
     ]
    }
   ],
   "source": [
    "msa_file = open(r\"C:\\Users\\Dan\\dev\\retrobase\\app\\retrobase\\query\\data\\msa\\Gag.clustal_num\", \"r\")\n",
    "\n",
    "for line in msa_file:\n",
    "    if not line.startswith(\"ERV\"):\n",
    "        print(line)\n",
    "    #line = line.split()\n",
    "    \n",
    "    "
   ]
  },
  {
   "cell_type": "code",
   "execution_count": 10,
   "metadata": {},
   "outputs": [],
   "source": [
    "for line in msa_file:\n",
    "    line.split()"
   ]
  }
 ],
 "metadata": {
  "kernelspec": {
   "display_name": "Python 3",
   "language": "python",
   "name": "python3"
  },
  "language_info": {
   "codemirror_mode": {
    "name": "ipython",
    "version": 3
   },
   "file_extension": ".py",
   "mimetype": "text/x-python",
   "name": "python",
   "nbconvert_exporter": "python",
   "pygments_lexer": "ipython3",
   "version": "3.7.4"
  }
 },
 "nbformat": 4,
 "nbformat_minor": 2
}
